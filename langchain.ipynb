{
 "cells": [
  {
   "cell_type": "markdown",
   "source": [
    "# Getting started with Langchain\n",
    "\n",
    "In this tutorial, we will walk through the basics of using LangChain to create a simple AI chatbot that can answer questions using OpenAI."
   ],
   "metadata": {
    "collapsed": false
   }
  },
  {
   "cell_type": "code",
   "execution_count": 121,
   "outputs": [],
   "source": [
    "# import libraries\n",
    "import os\n",
    "from langchain.llms import OpenAI"
   ],
   "metadata": {
    "collapsed": false,
    "ExecuteTime": {
     "start_time": "2023-04-25T19:58:21.630105Z",
     "end_time": "2023-04-25T19:58:21.634108Z"
    }
   }
  },
  {
   "cell_type": "code",
   "execution_count": 122,
   "outputs": [],
   "source": [
    "#create a new openai api key\n",
    "#os.environ[\"OPENAI_API_KEY\"] = \"...\""
   ],
   "metadata": {
    "collapsed": false,
    "ExecuteTime": {
     "start_time": "2023-04-25T19:58:24.844537Z",
     "end_time": "2023-04-25T19:58:24.849259Z"
    }
   }
  },
  {
   "cell_type": "code",
   "execution_count": 123,
   "outputs": [],
   "source": [
    "# set up openai api key\n",
    "openai_api_key = os.environ.get('OPENAI_API_KEY')"
   ],
   "metadata": {
    "collapsed": false,
    "ExecuteTime": {
     "start_time": "2023-04-25T19:58:29.771957Z",
     "end_time": "2023-04-25T19:58:29.776020Z"
    }
   }
  },
  {
   "cell_type": "code",
   "execution_count": 124,
   "outputs": [],
   "source": [
    "# create a llm\n",
    "llm = OpenAI(temperature = 0.9)"
   ],
   "metadata": {
    "collapsed": false,
    "ExecuteTime": {
     "start_time": "2023-04-25T19:58:32.099385Z",
     "end_time": "2023-04-25T19:58:32.103456Z"
    }
   }
  },
  {
   "cell_type": "code",
   "execution_count": 99,
   "outputs": [
    {
     "name": "stdout",
     "output_type": "stream",
     "text": [
      "\n",
      "\n",
      "1. Ireland\n",
      "2. Germany\n",
      "3. United States\n",
      "4. Poland\n"
     ]
    }
   ],
   "source": [
    "text = \"What are 4 countries where they eat a lot of potatoes?\"\n",
    "print(llm(text))"
   ],
   "metadata": {
    "collapsed": false,
    "ExecuteTime": {
     "start_time": "2023-04-25T19:23:40.191503Z",
     "end_time": "2023-04-25T19:23:41.362091Z"
    }
   }
  },
  {
   "cell_type": "markdown",
   "source": [
    "This works! But what if we what if we want to ask a question about a different food? We can use the prompt template class to do this."
   ],
   "metadata": {
    "collapsed": false
   }
  },
  {
   "cell_type": "markdown",
   "source": [
    "# Getting started with prompt templates\n",
    "\n",
    "A prompt template is a string that contains variables that can be filled in with different values. For example, you could have a prompt template that looks like this:"
   ],
   "metadata": {
    "collapsed": false
   }
  },
  {
   "cell_type": "code",
   "execution_count": 125,
   "outputs": [],
   "source": [
    "from langchain.prompts import PromptTemplate"
   ],
   "metadata": {
    "collapsed": false,
    "ExecuteTime": {
     "start_time": "2023-04-25T20:00:39.740097Z",
     "end_time": "2023-04-25T20:00:39.747573Z"
    }
   }
  },
  {
   "cell_type": "code",
   "execution_count": 126,
   "outputs": [],
   "source": [
    "prompt = PromptTemplate(\n",
    "    input_variables=[\"food\"],\n",
    "    template=\"What are 4 countries where they eat a lot of {food}?\",\n",
    ")"
   ],
   "metadata": {
    "collapsed": false,
    "ExecuteTime": {
     "start_time": "2023-04-25T20:00:40.138826Z",
     "end_time": "2023-04-25T20:00:40.143532Z"
    }
   }
  },
  {
   "cell_type": "code",
   "execution_count": 127,
   "outputs": [
    {
     "name": "stdout",
     "output_type": "stream",
     "text": [
      "What are 4 countries where they eat a lot of potatoes?\n"
     ]
    }
   ],
   "source": [
    "print(prompt.format(food=\"potatoes\"))\n"
   ],
   "metadata": {
    "collapsed": false,
    "ExecuteTime": {
     "start_time": "2023-04-25T20:00:40.688116Z",
     "end_time": "2023-04-25T20:00:40.693741Z"
    }
   }
  },
  {
   "cell_type": "code",
   "execution_count": 128,
   "outputs": [
    {
     "name": "stdout",
     "output_type": "stream",
     "text": [
      "\n",
      "\n",
      "1. Ireland\n",
      "2. United States\n",
      "3. Germany\n",
      "4. Russia\n"
     ]
    }
   ],
   "source": [
    "print(llm(prompt.format(food=\"potatoes\")))\n"
   ],
   "metadata": {
    "collapsed": false,
    "ExecuteTime": {
     "start_time": "2023-04-25T20:00:41.570089Z",
     "end_time": "2023-04-25T20:00:42.856134Z"
    }
   }
  },
  {
   "cell_type": "code",
   "execution_count": 129,
   "outputs": [
    {
     "name": "stdout",
     "output_type": "stream",
     "text": [
      "\n",
      "\n",
      "1. China\n",
      "2. India\n",
      "3. Indonesia\n",
      "4. Japan\n"
     ]
    }
   ],
   "source": [
    "print(llm(prompt.format(food=\"rice\")))"
   ],
   "metadata": {
    "collapsed": false,
    "ExecuteTime": {
     "start_time": "2023-04-25T20:00:44.943612Z",
     "end_time": "2023-04-25T20:00:46.732905Z"
    }
   }
  },
  {
   "cell_type": "markdown",
   "source": [
    "# Chaining\n",
    "\n",
    "Here, we combine LLMs and prompts in multistep workflows using the prompt template class."
   ],
   "metadata": {
    "collapsed": false
   }
  },
  {
   "cell_type": "code",
   "execution_count": 141,
   "outputs": [],
   "source": [
    "from langchain.prompts import PromptTemplate\n",
    "from langchain.llms import OpenAI\n",
    "from langchain.chains import LLMChain"
   ],
   "metadata": {
    "collapsed": false,
    "ExecuteTime": {
     "start_time": "2023-04-25T20:02:54.127301Z",
     "end_time": "2023-04-25T20:02:54.131442Z"
    }
   }
  },
  {
   "cell_type": "code",
   "execution_count": 142,
   "outputs": [],
   "source": [
    "llm = OpenAI(temperature=0.9)\n",
    "\n",
    "prompt = PromptTemplate(\n",
    "    input_variables=[\"food\"],\n",
    "    template=\"What are 4 countries where they eat a lot of {food}?\",\n",
    ")"
   ],
   "metadata": {
    "collapsed": false,
    "ExecuteTime": {
     "start_time": "2023-04-25T20:02:54.455969Z",
     "end_time": "2023-04-25T20:02:54.459900Z"
    }
   }
  },
  {
   "cell_type": "code",
   "execution_count": 143,
   "outputs": [],
   "source": [
    "chain = LLMChain(llm=llm, prompt=prompt)\n"
   ],
   "metadata": {
    "collapsed": false,
    "ExecuteTime": {
     "start_time": "2023-04-25T20:02:54.780355Z",
     "end_time": "2023-04-25T20:02:54.786409Z"
    }
   }
  },
  {
   "cell_type": "code",
   "execution_count": 146,
   "outputs": [
    {
     "name": "stdout",
     "output_type": "stream",
     "text": [
      "\n",
      "\n",
      "1. Ireland\n",
      "2. Russia\n",
      "3. Germany \n",
      "4. United States\n",
      "\n",
      "\n",
      "1. Japan\n",
      "2. China\n",
      "3. India\n",
      "4. Thailand\n"
     ]
    }
   ],
   "source": [
    "print(chain.run(\"potatoes\"))\n",
    "print(chain.run(\"rice\"))"
   ],
   "metadata": {
    "collapsed": false,
    "ExecuteTime": {
     "start_time": "2023-04-25T20:03:17.725774Z",
     "end_time": "2023-04-25T20:03:20.067727Z"
    }
   }
  },
  {
   "cell_type": "markdown",
   "source": [
    "# Agents: Dynamically call chains based on user input\n",
    "\n",
    "SerpApi is a search engine results page (SERP) scraping and parsing API that allows developers to retrieve and analyze data from various search engines, including Google, Bing, Yahoo, and more.\n",
    "\n",
    "\n",
    "To use SerpApi in Python, you will need to install the SerpApi Python module using pip. An API key can be created here:\n",
    "\n",
    "[Serpapi key](https://serpapi.com/users/sign_up)\n",
    "\n",
    "[Serpapi documentation](https://python.langchain.com/en/latest/modules/agents/tools/examples/serpapi.html)\n",
    "\n",
    "In the next part, we are going to combine OpenAI with SerpApi to create a chatbot that can answer questions with internet search results.\n",
    "\n",
    "[Agent langchain documentation](https://python.langchain.com/en/latest/modules/agents.html)\n",
    "\n",
    "\n"
   ],
   "metadata": {
    "collapsed": false
   }
  },
  {
   "cell_type": "code",
   "execution_count": 89,
   "outputs": [
    {
     "name": "stdout",
     "output_type": "stream",
     "text": [
      "Requirement already satisfied: google-search-results in /Users/erictak/miniconda3/lib/python3.10/site-packages (2.4.2)\r\n",
      "Requirement already satisfied: requests in /Users/erictak/miniconda3/lib/python3.10/site-packages (from google-search-results) (2.28.1)\r\n",
      "Requirement already satisfied: certifi>=2017.4.17 in /Users/erictak/miniconda3/lib/python3.10/site-packages (from requests->google-search-results) (2022.12.7)\r\n",
      "Requirement already satisfied: idna<4,>=2.5 in /Users/erictak/miniconda3/lib/python3.10/site-packages (from requests->google-search-results) (3.4)\r\n",
      "Requirement already satisfied: charset-normalizer<3,>=2 in /Users/erictak/miniconda3/lib/python3.10/site-packages (from requests->google-search-results) (2.0.4)\r\n",
      "Requirement already satisfied: urllib3<1.27,>=1.21.1 in /Users/erictak/miniconda3/lib/python3.10/site-packages (from requests->google-search-results) (1.26.15)\r\n"
     ]
    }
   ],
   "source": [
    "!pip install google-search-results"
   ],
   "metadata": {
    "collapsed": false,
    "ExecuteTime": {
     "start_time": "2023-04-25T19:11:51.130043Z",
     "end_time": "2023-04-25T19:11:54.670645Z"
    }
   }
  },
  {
   "cell_type": "code",
   "execution_count": 147,
   "outputs": [],
   "source": [
    "from langchain.agents import load_tools\n",
    "from langchain.agents import initialize_agent\n",
    "from langchain.llms import OpenAI"
   ],
   "metadata": {
    "collapsed": false,
    "ExecuteTime": {
     "start_time": "2023-04-25T20:04:45.264097Z",
     "end_time": "2023-04-25T20:04:45.271570Z"
    }
   }
  },
  {
   "cell_type": "code",
   "execution_count": 148,
   "outputs": [],
   "source": [
    "# Load the model\n",
    "llm = OpenAI(temperature=0)"
   ],
   "metadata": {
    "collapsed": false,
    "ExecuteTime": {
     "start_time": "2023-04-25T20:04:45.684336Z",
     "end_time": "2023-04-25T20:04:45.686764Z"
    }
   }
  },
  {
   "cell_type": "markdown",
   "source": [
    "Tools are functions that agents can use to interact with the world. These tools can be generic utilities (e.g. search), other chains, or even other agents.\n",
    "Here we use the SerpApi and llm-math tools.\n",
    "\n",
    "[Tools documentation](https://python.langchain.com/en/latest/modules/agents/tools/getting_started.html)"
   ],
   "metadata": {
    "collapsed": false
   }
  },
  {
   "cell_type": "code",
   "execution_count": 149,
   "outputs": [],
   "source": [
    "# Load in some tools to use\n",
    "\n",
    "#os.environ[\"SERPAPI_API_KEY\"] = \"...\"\n",
    "\n",
    "tools = load_tools([\"serpapi\", \"llm-math\"], llm=llm)"
   ],
   "metadata": {
    "collapsed": false,
    "ExecuteTime": {
     "start_time": "2023-04-25T20:04:47.012431Z",
     "end_time": "2023-04-25T20:04:47.018201Z"
    }
   }
  },
  {
   "cell_type": "markdown",
   "source": [
    "### Finally, let's initialize an agent with:\n",
    " 1. The tools\n",
    " 2. The language model\n",
    " 3. The type of agent we want to use."
   ],
   "metadata": {
    "collapsed": false
   }
  },
  {
   "cell_type": "code",
   "execution_count": 150,
   "outputs": [],
   "source": [
    "agent = initialize_agent(tools, llm, agent=\"zero-shot-react-description\", verbose=True)"
   ],
   "metadata": {
    "collapsed": false,
    "ExecuteTime": {
     "start_time": "2023-04-25T20:04:48.879555Z",
     "end_time": "2023-04-25T20:04:48.889216Z"
    }
   }
  },
  {
   "cell_type": "markdown",
   "source": [
    "By setting verbose=True, we can see the agent's internal state as it processes the input.\n",
    "\n",
    "Other agent types could also be chosen"
   ],
   "metadata": {
    "collapsed": false
   }
  },
  {
   "cell_type": "code",
   "execution_count": 151,
   "outputs": [
    {
     "name": "stdout",
     "output_type": "stream",
     "text": [
      "\n",
      "\n",
      "\u001B[1m> Entering new AgentExecutor chain...\u001B[0m\n",
      "\u001B[32;1m\u001B[1;3m I need to find out Obama's height and then use a calculator to figure out how many cans of coke I need.\n",
      "Action: Search\n",
      "Action Input: Obama's height\u001B[0m\n",
      "Observation: \u001B[36;1m\u001B[1;3m6′ 2″\u001B[0m\n",
      "Thought:\u001B[32;1m\u001B[1;3m I need to convert this to centimeters and then use a calculator to figure out how many cans of coke I need.\n",
      "Action: Calculator\n",
      "Action Input: 6 feet 2 inches in centimeters\u001B[0m\n",
      "Observation: \u001B[33;1m\u001B[1;3mAnswer: 187.96\u001B[0m\n",
      "Thought:\u001B[32;1m\u001B[1;3m I now know the number of centimeters and can use a calculator to figure out how many cans of coke I need.\n",
      "Action: Calculator\n",
      "Action Input: 187.96 cm divided by 12 cm (the height of a can of coke)\u001B[0m\n",
      "Observation: \u001B[33;1m\u001B[1;3mAnswer: 15.663333333333334\u001B[0m\n",
      "Thought:\u001B[32;1m\u001B[1;3m I now know the final answer\n",
      "Final Answer: 15.66 cans of coke can be stacked to reach Obama's height of 6 feet 2 inches.\u001B[0m\n",
      "\n",
      "\u001B[1m> Finished chain.\u001B[0m\n"
     ]
    },
    {
     "data": {
      "text/plain": "\"15.66 cans of coke can be stacked to reach Obama's height of 6 feet 2 inches.\""
     },
     "execution_count": 151,
     "metadata": {},
     "output_type": "execute_result"
    }
   ],
   "source": [
    "agent.run(\"What is the hight of Obama? And how many cans of coke can you stack to reach that height?\")"
   ],
   "metadata": {
    "collapsed": false,
    "ExecuteTime": {
     "start_time": "2023-04-25T20:07:44.514190Z",
     "end_time": "2023-04-25T20:08:00.065396Z"
    }
   }
  },
  {
   "cell_type": "markdown",
   "source": [
    "# Memory: Add state to chains and agents\n",
    "\n",
    "By adding memory to our agents, we can make them more dynamic and interactive. We can have a conversation and the agent will remember what we said and use that information to answer our questions.\n"
   ],
   "metadata": {
    "collapsed": false
   }
  },
  {
   "cell_type": "code",
   "execution_count": 116,
   "outputs": [],
   "source": [
    "from langchain import OpenAI, ConversationChain"
   ],
   "metadata": {
    "collapsed": false,
    "ExecuteTime": {
     "start_time": "2023-04-25T19:55:56.936951Z",
     "end_time": "2023-04-25T19:55:56.941771Z"
    }
   }
  },
  {
   "cell_type": "code",
   "execution_count": 117,
   "outputs": [],
   "source": [
    "llm = OpenAI(temperature=0)\n",
    "conversation = ConversationChain(llm=llm, verbose=True)"
   ],
   "metadata": {
    "collapsed": false,
    "ExecuteTime": {
     "start_time": "2023-04-25T19:55:57.483733Z",
     "end_time": "2023-04-25T19:55:57.487774Z"
    }
   }
  },
  {
   "cell_type": "code",
   "execution_count": 152,
   "outputs": [
    {
     "name": "stdout",
     "output_type": "stream",
     "text": [
      "\n",
      "\n",
      "\u001B[1m> Entering new ConversationChain chain...\u001B[0m\n",
      "Prompt after formatting:\n",
      "\u001B[32;1m\u001B[1;3mThe following is a friendly conversation between a human and an AI. The AI is talkative and provides lots of specific details from its context. If the AI does not know the answer to a question, it truthfully says it does not know.\n",
      "\n",
      "Current conversation:\n",
      "Human: Hi there!\n",
      "AI:  Hi there! It's nice to meet you. My name is AI. What's your name?\n",
      "Human: I'm doing well! Just having a conversation with an AI.\n",
      "AI:  That's great! It's always nice to have a conversation with someone new. What would you like to talk about?\n",
      "Human: I would like to get to know a bit more about Barcelona\n",
      "AI:  Sure! Barcelona is the capital of Catalonia, a region in Spain. It's known for its art and architecture, as well as its vibrant nightlife. It's also home to some of the world's best football teams, like FC Barcelona and RCD Espanyol. What else would you like to know about Barcelona?\n",
      "Human: Hi how are you doing!\n",
      "AI:\u001B[0m\n",
      "\n",
      "\u001B[1m> Finished chain.\u001B[0m\n"
     ]
    },
    {
     "data": {
      "text/plain": "\" Hi there! I'm doing well, thank you for asking. How are you doing?\""
     },
     "execution_count": 152,
     "metadata": {},
     "output_type": "execute_result"
    }
   ],
   "source": [
    "conversation.predict(input=\"Hi how are you doing!\")"
   ],
   "metadata": {
    "collapsed": false,
    "ExecuteTime": {
     "start_time": "2023-04-25T20:08:37.501639Z",
     "end_time": "2023-04-25T20:08:38.921688Z"
    }
   }
  },
  {
   "cell_type": "code",
   "execution_count": 153,
   "outputs": [
    {
     "name": "stdout",
     "output_type": "stream",
     "text": [
      "\n",
      "\n",
      "\u001B[1m> Entering new ConversationChain chain...\u001B[0m\n",
      "Prompt after formatting:\n",
      "\u001B[32;1m\u001B[1;3mThe following is a friendly conversation between a human and an AI. The AI is talkative and provides lots of specific details from its context. If the AI does not know the answer to a question, it truthfully says it does not know.\n",
      "\n",
      "Current conversation:\n",
      "Human: Hi there!\n",
      "AI:  Hi there! It's nice to meet you. My name is AI. What's your name?\n",
      "Human: I'm doing well! Just having a conversation with an AI.\n",
      "AI:  That's great! It's always nice to have a conversation with someone new. What would you like to talk about?\n",
      "Human: I would like to get to know a bit more about Barcelona\n",
      "AI:  Sure! Barcelona is the capital of Catalonia, a region in Spain. It's known for its art and architecture, as well as its vibrant nightlife. It's also home to some of the world's best football teams, like FC Barcelona and RCD Espanyol. What else would you like to know about Barcelona?\n",
      "Human: Hi how are you doing!\n",
      "AI:  Hi there! I'm doing well, thank you for asking. How are you doing?\n",
      "Human: I'm doing well! Just having a conversation with my newly created langchain agent with memory.\n",
      "AI:\u001B[0m\n",
      "\n",
      "\u001B[1m> Finished chain.\u001B[0m\n"
     ]
    },
    {
     "data": {
      "text/plain": "\"  That's great! It's always nice to have a conversation with someone new. What would you like to talk about?\""
     },
     "execution_count": 153,
     "metadata": {},
     "output_type": "execute_result"
    }
   ],
   "source": [
    "conversation.predict(input=\"I'm doing well! Just having a conversation with my newly created langchain agent with memory.\")"
   ],
   "metadata": {
    "collapsed": false,
    "ExecuteTime": {
     "start_time": "2023-04-25T20:09:12.247741Z",
     "end_time": "2023-04-25T20:09:14.194112Z"
    }
   }
  },
  {
   "cell_type": "code",
   "execution_count": 154,
   "outputs": [
    {
     "name": "stdout",
     "output_type": "stream",
     "text": [
      "\n",
      "\n",
      "\u001B[1m> Entering new ConversationChain chain...\u001B[0m\n",
      "Prompt after formatting:\n",
      "\u001B[32;1m\u001B[1;3mThe following is a friendly conversation between a human and an AI. The AI is talkative and provides lots of specific details from its context. If the AI does not know the answer to a question, it truthfully says it does not know.\n",
      "\n",
      "Current conversation:\n",
      "Human: Hi there!\n",
      "AI:  Hi there! It's nice to meet you. My name is AI. What's your name?\n",
      "Human: I'm doing well! Just having a conversation with an AI.\n",
      "AI:  That's great! It's always nice to have a conversation with someone new. What would you like to talk about?\n",
      "Human: I would like to get to know a bit more about Barcelona\n",
      "AI:  Sure! Barcelona is the capital of Catalonia, a region in Spain. It's known for its art and architecture, as well as its vibrant nightlife. It's also home to some of the world's best football teams, like FC Barcelona and RCD Espanyol. What else would you like to know about Barcelona?\n",
      "Human: Hi how are you doing!\n",
      "AI:  Hi there! I'm doing well, thank you for asking. How are you doing?\n",
      "Human: I'm doing well! Just having a conversation with my newly created langchain agent with memory.\n",
      "AI:   That's great! It's always nice to have a conversation with someone new. What would you like to talk about?\n",
      "Human: I would like to get to know a bit more about Barcelona\n",
      "AI:\u001B[0m\n",
      "\n",
      "\u001B[1m> Finished chain.\u001B[0m\n"
     ]
    },
    {
     "data": {
      "text/plain": "\" Sure! Barcelona is the capital of Catalonia, a region in Spain. It's known for its art and architecture, as well as its vibrant nightlife. It's also home to some of the world's best football teams, like FC Barcelona and RCD Espanyol. What else would you like to know about Barcelona?\""
     },
     "execution_count": 154,
     "metadata": {},
     "output_type": "execute_result"
    }
   ],
   "source": [
    "conversation.predict(input=\"I would like to get to know a bit more about Barcelona\")"
   ],
   "metadata": {
    "collapsed": false,
    "ExecuteTime": {
     "start_time": "2023-04-25T20:09:22.770432Z",
     "end_time": "2023-04-25T20:09:26.015514Z"
    }
   }
  },
  {
   "cell_type": "markdown",
   "source": [
    "# Continue the conversation yourself!"
   ],
   "metadata": {
    "collapsed": false
   }
  },
  {
   "cell_type": "code",
   "execution_count": null,
   "outputs": [],
   "source": [
    "conversation.predict(input=\"...\")"
   ],
   "metadata": {
    "collapsed": false
   }
  },
  {
   "cell_type": "markdown",
   "source": [
    "# This is the end of the tutorial. We hope you enjoyed it!\n",
    "\n",
    "Follow me on Github and Medium for more content:\n",
    "\n",
    "- [Github](https://github.com/rubentak)\n",
    "- [Medium](https://medium.com/@rubentak)"
   ],
   "metadata": {
    "collapsed": false
   }
  },
  {
   "cell_type": "code",
   "execution_count": null,
   "outputs": [],
   "source": [],
   "metadata": {
    "collapsed": false
   }
  }
 ],
 "metadata": {
  "kernelspec": {
   "display_name": "Python 3",
   "language": "python",
   "name": "python3"
  },
  "language_info": {
   "codemirror_mode": {
    "name": "ipython",
    "version": 2
   },
   "file_extension": ".py",
   "mimetype": "text/x-python",
   "name": "python",
   "nbconvert_exporter": "python",
   "pygments_lexer": "ipython2",
   "version": "2.7.6"
  }
 },
 "nbformat": 4,
 "nbformat_minor": 0
}
