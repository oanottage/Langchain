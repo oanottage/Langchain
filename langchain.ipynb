{
 "cells": [
  {
   "cell_type": "markdown",
   "source": [
    "# Langchain 🦜🔗 - A Python library for language modeling\n",
    "\n",
    "LangChain is a Python library that allows you to chain together multiple APIs and external data sources to create more complex and dynamic AI applications. It acts as a middle layer between different machine learning models and external data sources like databases, web APIs, and file systems, allowing you to easily incorporate them into your AI workflows.\n",
    "\n",
    "With LangChain, you can chain together multiple models from different libraries, like OpenAI's GPT-3 or Hugging Face's transformers, and connect them to a variety of external data sources. This allows you to create more complex AI applications that can access and utilize a wider range of data sources.\n",
    "\n",
    "For example, you can use LangChain to create an AI chatbot that can answer questions by accessing data from a database or external API. The chatbot can use multiple models to interpret and understand the user's questions and then use the external data sources to provide relevant answers.\n",
    "\n",
    "Overall, LangChain provides a flexible and powerful tool for building more sophisticated AI applications by allowing you to connect and utilize a wider range of models and data sources.\n",
    "<br>\n",
    "<img src=\"langchain.jpg\" alt=\"Langchain image\" width=\"1200\"/>\n",
    "\n",
    "[Documentation Langchain](https://python.langchain.com/en/latest/index.html)"
   ],
   "metadata": {
    "collapsed": false
   }
  },
  {
   "cell_type": "code",
   "execution_count": 66,
   "outputs": [],
   "source": [
    "# import libraries\n",
    "import pandas as pd\n",
    "import openai\n",
    "import os\n",
    "import langchain\n",
    "from langchain.llms import OpenAI\n",
    "import credentials"
   ],
   "metadata": {
    "collapsed": false,
    "ExecuteTime": {
     "start_time": "2023-04-25T18:39:06.518380Z",
     "end_time": "2023-04-25T18:39:06.531657Z"
    }
   }
  },
  {
   "cell_type": "code",
   "execution_count": 67,
   "outputs": [],
   "source": [
    "#create a new openai api key\n",
    "#os.environ[\"OPENAI_API_KEY\"] = \"...\""
   ],
   "metadata": {
    "collapsed": false,
    "ExecuteTime": {
     "start_time": "2023-04-25T18:39:07.040863Z",
     "end_time": "2023-04-25T18:39:07.043685Z"
    }
   }
  },
  {
   "cell_type": "code",
   "execution_count": 68,
   "outputs": [],
   "source": [
    "# set up openai api key\n",
    "openai_api_key = os.environ.get('OPENAI_API_KEY')"
   ],
   "metadata": {
    "collapsed": false,
    "ExecuteTime": {
     "start_time": "2023-04-25T18:39:07.709253Z",
     "end_time": "2023-04-25T18:39:07.711174Z"
    }
   }
  },
  {
   "cell_type": "code",
   "execution_count": 69,
   "outputs": [],
   "source": [
    "# create a llm\n",
    "llm = OpenAI(temperature = 0.9)"
   ],
   "metadata": {
    "collapsed": false,
    "ExecuteTime": {
     "start_time": "2023-04-25T18:39:08.157209Z",
     "end_time": "2023-04-25T18:39:08.160569Z"
    }
   }
  },
  {
   "cell_type": "code",
   "execution_count": 70,
   "outputs": [
    {
     "name": "stdout",
     "output_type": "stream",
     "text": [
      "\n",
      "\n",
      "1. Rome, Italy \n",
      "2. Venice, Italy \n",
      "3. Florence, Italy \n",
      "4. Bologna, Italy \n",
      "5. Naples, Italy\n"
     ]
    }
   ],
   "source": [
    "text = \"What are 5 vacation destinations for someone who likes to eat pasta?\"\n",
    "print(llm(text))"
   ],
   "metadata": {
    "collapsed": false,
    "ExecuteTime": {
     "start_time": "2023-04-25T18:39:08.549957Z",
     "end_time": "2023-04-25T18:39:11.406264Z"
    }
   }
  },
  {
   "cell_type": "markdown",
   "source": [
    "# Getting started with prompt templates"
   ],
   "metadata": {
    "collapsed": false
   }
  },
  {
   "cell_type": "code",
   "execution_count": 71,
   "outputs": [],
   "source": [
    "from langchain.prompts import PromptTemplate\n"
   ],
   "metadata": {
    "collapsed": false,
    "ExecuteTime": {
     "start_time": "2023-04-25T18:39:11.407813Z",
     "end_time": "2023-04-25T18:39:11.411598Z"
    }
   }
  },
  {
   "cell_type": "code",
   "execution_count": 72,
   "outputs": [],
   "source": [
    "prompt = PromptTemplate(\n",
    "    input_variables=[\"food\"],\n",
    "    template=\"What are 5 vacation destinations for someone who likes to eat {food}?\",\n",
    ")"
   ],
   "metadata": {
    "collapsed": false,
    "ExecuteTime": {
     "start_time": "2023-04-25T18:39:11.558118Z",
     "end_time": "2023-04-25T18:39:11.560651Z"
    }
   }
  },
  {
   "cell_type": "code",
   "execution_count": 73,
   "outputs": [
    {
     "name": "stdout",
     "output_type": "stream",
     "text": [
      "What are 5 vacation destinations for someone who likes to eat breakfast?\n"
     ]
    }
   ],
   "source": [
    "print(prompt.format(food=\"breakfast\"))\n"
   ],
   "metadata": {
    "collapsed": false,
    "ExecuteTime": {
     "start_time": "2023-04-25T18:39:12.464200Z",
     "end_time": "2023-04-25T18:39:12.468274Z"
    }
   }
  },
  {
   "cell_type": "code",
   "execution_count": 74,
   "outputs": [
    {
     "name": "stdout",
     "output_type": "stream",
     "text": [
      "\n",
      "\n",
      "1. Bali, Indonesia – for its diverse selection of traditional breakfast dishes, such as nasi goreng, sambal and bubur ayam.\n",
      "\n",
      "2. Vienna, Austria – for its lovely coffee houses and traditional Viennese breakfasts.\n",
      "\n",
      "3. Copenhagen, Denmark – for its smørrebrød and other classic Danish breakfast dishes.\n",
      "\n",
      "4. Bangkok, Thailand – for its delicious breakfast market stalls and street food.\n",
      "\n",
      "5. Paris, France – for its classic croissant and café au lait breakfasts.\n"
     ]
    }
   ],
   "source": [
    "print(llm(prompt.format(food=\"breakfast\")))\n"
   ],
   "metadata": {
    "collapsed": false,
    "ExecuteTime": {
     "start_time": "2023-04-25T18:39:13.113869Z",
     "end_time": "2023-04-25T18:39:18.793456Z"
    }
   }
  },
  {
   "cell_type": "markdown",
   "source": [
    "# Chain"
   ],
   "metadata": {
    "collapsed": false
   }
  },
  {
   "cell_type": "code",
   "execution_count": 75,
   "outputs": [],
   "source": [
    "from langchain.prompts import PromptTemplate\n",
    "from langchain.llms import OpenAI\n",
    "from langchain.chains import LLMChain"
   ],
   "metadata": {
    "collapsed": false,
    "ExecuteTime": {
     "start_time": "2023-04-25T18:39:18.795977Z",
     "end_time": "2023-04-25T18:39:18.799511Z"
    }
   }
  },
  {
   "cell_type": "code",
   "execution_count": 76,
   "outputs": [],
   "source": [
    "llm = OpenAI(temperature=0.9)\n",
    "\n",
    "prompt = PromptTemplate(\n",
    "    input_variables=[\"food\"],\n",
    "    template=\"What are 5 vacation destinations for someone who likes to eat {food}?\",\n",
    ")"
   ],
   "metadata": {
    "collapsed": false,
    "ExecuteTime": {
     "start_time": "2023-04-25T18:39:18.801941Z",
     "end_time": "2023-04-25T18:39:18.804338Z"
    }
   }
  },
  {
   "cell_type": "code",
   "execution_count": 77,
   "outputs": [],
   "source": [
    "chain = LLMChain(llm=llm, prompt=prompt)\n"
   ],
   "metadata": {
    "collapsed": false,
    "ExecuteTime": {
     "start_time": "2023-04-25T18:39:18.806941Z",
     "end_time": "2023-04-25T18:39:18.809585Z"
    }
   }
  },
  {
   "cell_type": "code",
   "execution_count": 78,
   "outputs": [
    {
     "name": "stdout",
     "output_type": "stream",
     "text": [
      "\n",
      "\n",
      "1. Tokyo, Japan\n",
      "2. Portland, Oregon\n",
      "3. Charleston, South Carolina\n",
      "4. Budapest, Hungary\n",
      "5. Amsterdam, Netherlands\n"
     ]
    }
   ],
   "source": [
    "print(chain.run(\"breakfast\"))\n"
   ],
   "metadata": {
    "collapsed": false,
    "ExecuteTime": {
     "start_time": "2023-04-25T18:39:18.811685Z",
     "end_time": "2023-04-25T18:39:21.228452Z"
    }
   }
  },
  {
   "cell_type": "code",
   "execution_count": null,
   "outputs": [],
   "source": [],
   "metadata": {
    "collapsed": false
   }
  }
 ],
 "metadata": {
  "kernelspec": {
   "display_name": "Python 3",
   "language": "python",
   "name": "python3"
  },
  "language_info": {
   "codemirror_mode": {
    "name": "ipython",
    "version": 2
   },
   "file_extension": ".py",
   "mimetype": "text/x-python",
   "name": "python",
   "nbconvert_exporter": "python",
   "pygments_lexer": "ipython2",
   "version": "2.7.6"
  }
 },
 "nbformat": 4,
 "nbformat_minor": 0
}
